{
 "cells": [
  {
   "cell_type": "markdown",
   "id": "bb91fd85",
   "metadata": {},
   "source": [
    "# Streamlit"
   ]
  },
  {
   "cell_type": "markdown",
   "id": "43cd938a",
   "metadata": {},
   "source": [
    "### 1) Introduction to Streamlit\n",
    "\n",
    "* What is Streamlit?\n",
    "* Setting Up the Environment\n",
    "* Running your first Streamlit app\n",
    "\n",
    "\n",
    "### 2)Streamlit App Basics\n",
    "\n",
    "* App layout and structure\n",
    "* Displaying text and images\n",
    "* Adding interactivity with widgets (buttons, sliders, checkboxes, etc.)\n",
    "\n",
    "### 3)Streamlit widgets\n",
    "* Buttons\n",
    "* Sliders\n",
    "* Checkboxes\n",
    "* Text Input\n",
    "* Text Area\n",
    "* Number Input\n",
    "* Date Input\n",
    "* Time Input\n",
    "* Selectbox\n",
    "* Multiselect\n",
    "* File Uploader\n",
    "* Download\n",
    "\n",
    "### 4) Basic Data Processing and Visualization\n",
    "\n",
    "* Uploading data files (CSV, Excel, etc.)\n",
    "* Data manipulation with Pandas\n",
    "* Data visualization with Matplotlib and Plotly\n",
    "\n",
    "### 5 Streamlit Layout and Components\n",
    "\n",
    "* Layout options (columns, sidebars, expanders)\n",
    "* Basic Streamlit components (progress bars etc.)\n"
   ]
  },
  {
   "cell_type": "markdown",
   "id": "09cc8698",
   "metadata": {},
   "source": [
    "## Introduction to Streamlit"
   ]
  },
  {
   "cell_type": "markdown",
   "id": "60da34f9",
   "metadata": {},
   "source": [
    "### What is Streamlit?\n",
    "\n",
    "* Streamlit is an open-source Python library for creating interactive web applications.\n",
    "* Designed specifically for data science and machine learning projects.\n",
    "* Streamlines the process of building, deploying, and sharing web applications.\n",
    "* No need for extensive web development knowledge."
   ]
  },
  {
   "cell_type": "markdown",
   "id": "3d2a8578",
   "metadata": {},
   "source": [
    "NB : YOU CAN USE VSCODE OR PYCHARM"
   ]
  },
  {
   "cell_type": "markdown",
   "id": "f9b43cdb",
   "metadata": {},
   "source": [
    "### Setting Up the Environment"
   ]
  },
  {
   "cell_type": "markdown",
   "id": "9dae25b8",
   "metadata": {},
   "source": [
    "https://30days-tmp.streamlit.app/?ref=blog.streamlit.io"
   ]
  },
  {
   "cell_type": "code",
   "execution_count": null,
   "id": "0f2d39ba",
   "metadata": {},
   "outputs": [],
   "source": [
    "\n",
    "pip install streamlit\n"
   ]
  },
  {
   "cell_type": "markdown",
   "id": "41235e86",
   "metadata": {},
   "source": [
    "Wait for Streamlit to install successfully. Once installed, you can start using Streamlit in your Python code.\n",
    "Now you have successfully set up your environment and are ready to start building web applications with Streamlit "
   ]
  },
  {
   "cell_type": "markdown",
   "id": "2daefebe",
   "metadata": {},
   "source": [
    "### Running your first Streamlit app\n",
    "\n",
    "* Create a new Python file (e.g., app.py) \n",
    "* Add the following code to the file:"
   ]
  },
  {
   "cell_type": "code",
   "execution_count": null,
   "id": "812ce4a6",
   "metadata": {},
   "outputs": [],
   "source": [
    "import streamlit as st\n",
    "\n",
    "st.title('Hello, Streamlit!')\n",
    "st.write('This is my first Streamlit app.')\n"
   ]
  },
  {
   "cell_type": "markdown",
   "id": "d9431e10",
   "metadata": {},
   "source": [
    "Save the file and run the following command:"
   ]
  },
  {
   "cell_type": "raw",
   "id": "8130f57b",
   "metadata": {},
   "source": [
    "streamlit run main.py"
   ]
  },
  {
   "cell_type": "markdown",
   "id": "3b85a886",
   "metadata": {},
   "source": [
    "## Streamlit App Basics"
   ]
  },
  {
   "cell_type": "markdown",
   "id": "2fbda98c",
   "metadata": {},
   "source": [
    "### App layout and structure\n",
    "\n",
    "* Streamlit apps are built using Python scripts.\n",
    "* The layout is defined using Streamlit commands, which are executed from top to bottom.\n",
    "* Markdown, LaTeX, and other formatting can be used to style the app's content."
   ]
  },
  {
   "cell_type": "markdown",
   "id": "dedc9f54",
   "metadata": {},
   "source": [
    "### Displaying text and images\n",
    "\n",
    "* Use Streamlit commands to display text, such as st.write(), st.markdown(), st.header(), st.subheader(), and st.text().\n",
    "* To display images, use the st.image() function, which supports various formats like JPEG, PNG, and SVG. Example:"
   ]
  },
  {
   "cell_type": "code",
   "execution_count": null,
   "id": "9ce757cb",
   "metadata": {},
   "outputs": [],
   "source": [
    "import streamlit as st\n",
    "\n",
    "st.write(\"Displaying an image:\")\n",
    "st.image(\"path/to/image.png\", caption=\"Image caption\", use_column_width=True)\n"
   ]
  },
  {
   "cell_type": "markdown",
   "id": "744bc81b",
   "metadata": {},
   "source": [
    "### Adding interactivity with widgets\n",
    "\n",
    "* Streamlit provides various built-in widgets for user interaction, such as buttons, sliders, checkboxes, and more.\n",
    "* Widgets are added using functions like st.button(), st.slider(), st.checkbox(), etc.\n",
    "\n",
    "* Example of using widgets"
   ]
  },
  {
   "cell_type": "code",
   "execution_count": null,
   "id": "197f6d91",
   "metadata": {},
   "outputs": [],
   "source": [
    "import streamlit as st\n",
    "\n",
    "st.write(\"Choose a number:\")\n",
    "number = st.slider(\"Number\", min_value=1, max_value=100, value=50)\n",
    "st.write(f\"You chose: {number}\")\n",
    "\n",
    "if st.button(\"Click me!\"):\n",
    "    st.write(\"You clicked the button!\")\n"
   ]
  },
  {
   "cell_type": "markdown",
   "id": "6887ca29",
   "metadata": {},
   "source": [
    "## Streamlit widgets"
   ]
  },
  {
   "cell_type": "code",
   "execution_count": null,
   "id": "a0e20bd4",
   "metadata": {},
   "outputs": [],
   "source": [
    "* Buttons\n",
    "* Sliders\n",
    "* Checkboxes\n",
    "* Text Input\n",
    "* Text Area\n",
    "* Number Input\n",
    "* Date Input\n",
    "* Time Input\n",
    "* Selectbox\n",
    "* Multiselect\n",
    "* File Uploader\n",
    "* Download"
   ]
  },
  {
   "cell_type": "markdown",
   "id": "a0d54039",
   "metadata": {},
   "source": [
    "### Buttons\n",
    "\n",
    "*Buttons are used to trigger actions or events in your Streamlit app.\n",
    "\n",
    "\n",
    "Example:"
   ]
  },
  {
   "cell_type": "code",
   "execution_count": 5,
   "id": "6d5afdb2",
   "metadata": {},
   "outputs": [],
   "source": [
    "import streamlit as st\n",
    "\n",
    "if st.button(\"Click me\"):\n",
    "    st.write(\"Button clicked!\")\n"
   ]
  },
  {
   "cell_type": "markdown",
   "id": "6d27d1a4",
   "metadata": {},
   "source": [
    "### Sliders\n",
    "\n",
    "Sliders allow users to select a value within a specified range.\n"
   ]
  },
  {
   "cell_type": "code",
   "execution_count": null,
   "id": "5fc74924",
   "metadata": {},
   "outputs": [],
   "source": [
    "import streamlit as st\n",
    "\n",
    "slider_value = st.slider(\"Select a value:\", min_value=0, max_value=100, value=50)\n",
    "st.write(f\"Selected value: {slider_value}\")\n"
   ]
  },
  {
   "cell_type": "markdown",
   "id": "fe51b2ba",
   "metadata": {},
   "source": [
    "### Checkboxes\n",
    "\n",
    "Checkboxes enable users to toggle the display of content or modify settings.\n",
    "\n",
    "Example:"
   ]
  },
  {
   "cell_type": "code",
   "execution_count": null,
   "id": "fc46cee3",
   "metadata": {},
   "outputs": [],
   "source": [
    "import streamlit as st\n",
    "\n",
    "checkbox_value = st.checkbox(\"Show content\")\n",
    "if checkbox_value:\n",
    "    st.write(\"Content displayed.\")\n"
   ]
  },
  {
   "cell_type": "markdown",
   "id": "22a5aaa5",
   "metadata": {},
   "source": [
    "### Text Input\n",
    "\n",
    "To allow users to enter text, use the st.text_input() function.\n",
    "\n",
    "\n",
    "Example:"
   ]
  },
  {
   "cell_type": "code",
   "execution_count": null,
   "id": "9ea7b308",
   "metadata": {},
   "outputs": [],
   "source": [
    "import streamlit as st\n",
    "\n",
    "name = st.text_input(\"Enter your name:\", \"Type here\")\n",
    "st.write(f\"Hello, {name}!\")\n"
   ]
  },
  {
   "cell_type": "markdown",
   "id": "036613d5",
   "metadata": {},
   "source": [
    "### Text Area\n",
    "\n",
    "To allow users to enter multiline text, use the st.text_area() function.\n",
    "\n",
    "\n",
    "Example:"
   ]
  },
  {
   "cell_type": "code",
   "execution_count": null,
   "id": "1cb8b628",
   "metadata": {},
   "outputs": [],
   "source": [
    "import streamlit as st\n",
    "\n",
    "feedback = st.text_area(\"Your feedback:\", \"Type your feedback here\")\n",
    "st.write(f\"Thank you for your feedback: {feedback}\")\n"
   ]
  },
  {
   "cell_type": "markdown",
   "id": "47f7e7d2",
   "metadata": {},
   "source": [
    "### Number Input\n",
    "\n",
    "To allow users to enter a number, use the st.number_input() function.\n",
    "\n",
    "Example:"
   ]
  },
  {
   "cell_type": "code",
   "execution_count": null,
   "id": "8ec45f27",
   "metadata": {},
   "outputs": [],
   "source": [
    "import streamlit as st\n",
    "\n",
    "age = st.number_input(\"Enter your age:\", min_value=0, max_value=120, value=25, step=1)\n",
    "st.write(f\"Your age is: {age}\")\n"
   ]
  },
  {
   "cell_type": "markdown",
   "id": "1b463a4c",
   "metadata": {},
   "source": [
    "### Date Input\n",
    "\n",
    "To allow users to select a date, use the st.date_input() function.\n",
    "\n",
    "Example:"
   ]
  },
  {
   "cell_type": "code",
   "execution_count": null,
   "id": "adb884f5",
   "metadata": {},
   "outputs": [],
   "source": [
    "import streamlit as st\n",
    "\n",
    "date = st.date_input(\"Select a date:\", None)\n",
    "st.write(f\"Selected date is: {date}\")\n"
   ]
  },
  {
   "cell_type": "markdown",
   "id": "06f1f8f5",
   "metadata": {},
   "source": [
    "### Time Input\n",
    "\n",
    "To allow users to select a time, use the st.time_input() function.\n",
    "\n",
    "\n",
    "Example:"
   ]
  },
  {
   "cell_type": "code",
   "execution_count": null,
   "id": "9451c3d2",
   "metadata": {},
   "outputs": [],
   "source": [
    "import streamlit as st\n",
    "import datetime\n",
    "\n",
    "time = st.time_input(\"Select a time:\", datetime.time(12, 00))\n",
    "st.write(f\"Selected time is: {time}\")\n"
   ]
  },
  {
   "cell_type": "markdown",
   "id": "cf611d55",
   "metadata": {},
   "source": [
    "### Selectbox\n",
    "\n",
    "To allow users to select an option from a dropdown menu, use the st.selectbox() function.\n",
    "\n",
    "\n",
    "Example:"
   ]
  },
  {
   "cell_type": "code",
   "execution_count": null,
   "id": "4aa78212",
   "metadata": {},
   "outputs": [],
   "source": [
    "import streamlit as st\n",
    "\n",
    "options = [\"Option 1\", \"Option 2\", \"Option 3\"]\n",
    "choice = st.selectbox(\"Choose an option:\", options)\n",
    "st.write(f\"You chose: {choice}\")\n"
   ]
  },
  {
   "cell_type": "markdown",
   "id": "7717080c",
   "metadata": {},
   "source": [
    "### Multiselect\n",
    "\n",
    "To allow users to select multiple options, use the st.multiselect() function.\n",
    "\n",
    "\n",
    "Example:"
   ]
  },
  {
   "cell_type": "code",
   "execution_count": null,
   "id": "2507cb23",
   "metadata": {},
   "outputs": [],
   "source": [
    "import streamlit as st\n",
    "\n",
    "options = [\"Option 1\", \"Option 2\", \"Option 3\"]\n",
    "selections = st.multiselect(\"Choose multiple options:\", options)\n",
    "st.write(f\"You chose: {', '.join(selections)}\")\n"
   ]
  },
  {
   "cell_type": "markdown",
   "id": "ce636b0e",
   "metadata": {},
   "source": [
    "### Radio Button\n",
    "\n",
    "To allow users to select one option from a list, use the st.radio() function.\n",
    "\n",
    "Example:"
   ]
  },
  {
   "cell_type": "code",
   "execution_count": null,
   "id": "a87bfec8",
   "metadata": {},
   "outputs": [],
   "source": [
    "import streamlit as st\n",
    "\n",
    "options = [\"Option 1\", \"Option 2\", \"Option 3\"]\n",
    "choice = st.radio(\"Choose one option:\", options)\n",
    "st.write(f\"You chose: {choice}\")\n"
   ]
  },
  {
   "cell_type": "markdown",
   "id": "d002c3a8",
   "metadata": {},
   "source": [
    "### File Uploader\n",
    "\n",
    "To allow users to upload files, use the st.file_uploader() function.\n",
    "\n",
    "Example"
   ]
  },
  {
   "cell_type": "code",
   "execution_count": null,
   "id": "19d688b1",
   "metadata": {},
   "outputs": [],
   "source": [
    "import streamlit as st\n",
    "\n",
    "uploaded_file = st.file_uploader(\"Choose a file to upload:\", type=[\"csv\", \"txt\", \"xlsx\"])\n",
    "if uploaded_file is not None:\n",
    "    st.write(f\"File uploaded: {uploaded_file.name}\")\n"
   ]
  },
  {
   "cell_type": "markdown",
   "id": "dd592e2b",
   "metadata": {},
   "source": [
    "### Download\n",
    "\n",
    "The download functionality allows users to download data or files generated in your Streamlit app.\n",
    "\n",
    "\n",
    "Example (downloading a CSV file):"
   ]
  },
  {
   "cell_type": "code",
   "execution_count": null,
   "id": "138e9066",
   "metadata": {},
   "outputs": [],
   "source": [
    "import streamlit as st\n",
    "import pandas as pd\n",
    "import io\n",
    "\n",
    "# Create a sample DataFrame\n",
    "data = {'Column1': [1, 2, 3], 'Column2': [4, 5, 6]}\n",
    "df = pd.DataFrame(data)\n",
    "\n",
    "# Display the DataFrame\n",
    "st.dataframe(df)\n",
    "\n",
    "# Download the DataFrame as a CSV file\n",
    "\n",
    "# Create a StringIO object to hold the CSV data\n",
    "csv_buffer = io.StringIO()\n",
    "\n",
    "# Write the contents of the DataFrame to the StringIO object in CSV format\n",
    "# The index column is excluded from the output by passing index=False\n",
    "df.to_csv(csv_buffer, index=False)\n",
    "\n",
    "# Get the contents of the StringIO object as a string\n",
    "csv_data = csv_buffer.getvalue()\n",
    "\n",
    "st.download_button(\n",
    "    label=\"Download CSV\",\n",
    "    data=csv_data,\n",
    "    file_name=\"sample_data.csv\",\n",
    "    mime=\"text/csv\"\n",
    ")\n"
   ]
  },
  {
   "cell_type": "markdown",
   "id": "ebb08315",
   "metadata": {},
   "source": [
    "##  Basic Data Processing and Visualization"
   ]
  },
  {
   "cell_type": "markdown",
   "id": "d02fa95b",
   "metadata": {},
   "source": [
    "### Uploading data files (CSV, Excel, etc.)\n",
    "\n",
    "Use the st.file_uploader() function to upload data files.\n",
    "\n",
    "Example:"
   ]
  },
  {
   "cell_type": "code",
   "execution_count": null,
   "id": "ced2cca3",
   "metadata": {},
   "outputs": [],
   "source": [
    "import streamlit as st\n",
    "\n",
    "uploaded_file = st.file_uploader(\"Upload a CSV or Excel file:\", type=[\"csv\", \"xlsx\"])\n"
   ]
  },
  {
   "cell_type": "markdown",
   "id": "d15a98c0",
   "metadata": {},
   "source": [
    "### Data manipulation with Pandas\n",
    "\n",
    "Read and manipulate data using the Pandas library.\n",
    "\n",
    "\n",
    "Example of reading a CSV file:"
   ]
  },
  {
   "cell_type": "code",
   "execution_count": null,
   "id": "abe52407",
   "metadata": {},
   "outputs": [],
   "source": [
    "import pandas as pd\n",
    "\n",
    "if uploaded_file is not None:\n",
    "    df = pd.read_csv(uploaded_file)\n",
    "    st.write(\"Data:\")\n",
    "    st.dataframe(df)\n"
   ]
  },
  {
   "cell_type": "markdown",
   "id": "623196d4",
   "metadata": {},
   "source": [
    "### Data visualization with Matplotlib and Plotly\n",
    "\n",
    "Visualize data using the Matplotlib or Plotly libraries.\n",
    "\n",
    "\n",
    "Example of creating a bar chart with Matplotlib:"
   ]
  },
  {
   "cell_type": "code",
   "execution_count": null,
   "id": "a90275e5",
   "metadata": {},
   "outputs": [],
   "source": [
    "import matplotlib.pyplot as plt\n",
    "\n",
    "if uploaded_file is not None:\n",
    "    df = pd.read_csv(uploaded_file)\n",
    "    st.write(\"Data:\")\n",
    "    st.dataframe(df)\n",
    "\n",
    "    st.write(\"Bar chart:\")\n",
    "    plt.bar(df['Category'], df['Value'])\n",
    "    plt.xlabel('Category')\n",
    "    plt.ylabel('Value')\n",
    "    st.pyplot(plt)\n"
   ]
  },
  {
   "cell_type": "markdown",
   "id": "1ae59ecb",
   "metadata": {},
   "source": [
    "Example of creating an interactive scatter plot with Plotly:"
   ]
  },
  {
   "cell_type": "code",
   "execution_count": null,
   "id": "942a1d40",
   "metadata": {},
   "outputs": [],
   "source": [
    "import plotly.express as px\n",
    "\n",
    "if uploaded_file is not None:\n",
    "    df = pd.read_csv(uploaded_file)\n",
    "    st.write(\"Data:\")\n",
    "    st.dataframe(df)\n",
    "\n",
    "    st.write(\"Scatter plot:\")\n",
    "    fig = px.scatter(df, x='Feature1', y='Feature2', color='Category', hover_name='Label')\n",
    "    st.plotly_chart(fig)\n"
   ]
  },
  {
   "cell_type": "markdown",
   "id": "10588a49",
   "metadata": {},
   "source": [
    "## Streamlit Layout and Components\n"
   ]
  },
  {
   "cell_type": "markdown",
   "id": "eee48284",
   "metadata": {},
   "source": [
    "### Layout options\n",
    "\n",
    "#### Columns: \n",
    "\n",
    "Organize content into multiple columns using st.columns()."
   ]
  },
  {
   "cell_type": "code",
   "execution_count": 7,
   "id": "30b9ee64",
   "metadata": {},
   "outputs": [],
   "source": [
    "import streamlit as st\n",
    "\n",
    "col1, col2, col3 = st.columns(3)\n",
    "\n",
    "col1.write(\"Column 1\")\n",
    "col2.write(\"Column 2\")\n",
    "col3.write(\"Column 3\")\n"
   ]
  },
  {
   "cell_type": "markdown",
   "id": "2971b134",
   "metadata": {},
   "source": [
    "#### Sidebars: \n",
    "Add content to a sidebar using st.sidebar"
   ]
  },
  {
   "cell_type": "code",
   "execution_count": null,
   "id": "2bed20b3",
   "metadata": {},
   "outputs": [],
   "source": [
    "import streamlit as st\n",
    "\n",
    "st.write(\"Main content\")\n",
    "st.sidebar.write(\"Sidebar content\")\n"
   ]
  },
  {
   "cell_type": "markdown",
   "id": "f1f5633f",
   "metadata": {},
   "source": [
    "#### Expanders: \n",
    "\n",
    "Create collapsible sections using st.expander()."
   ]
  },
  {
   "cell_type": "code",
   "execution_count": 9,
   "id": "f5bbd935",
   "metadata": {},
   "outputs": [],
   "source": [
    "import streamlit as st\n",
    "\n",
    "with st.expander(\"Section 1\"):\n",
    "    st.write(\"Content for Section 1\")\n",
    "\n",
    "with st.expander(\"Section 2\"):\n",
    "    st.write(\"Content for Section 2\")\n"
   ]
  },
  {
   "cell_type": "markdown",
   "id": "719f49c3",
   "metadata": {},
   "source": [
    "### Basic Streamlit components"
   ]
  },
  {
   "cell_type": "markdown",
   "id": "793ef7df",
   "metadata": {},
   "source": [
    "#### Progress bars:\n",
    "    \n",
    "Display progress using st.progress()"
   ]
  },
  {
   "cell_type": "code",
   "execution_count": 11,
   "id": "287b5876",
   "metadata": {},
   "outputs": [],
   "source": [
    "import streamlit as st\n",
    "import time\n",
    "\n",
    "progress = st.progress(0)\n",
    "for i in range(100):\n",
    "    progress.progress(i + 1)\n",
    "    time.sleep(0.1)\n"
   ]
  },
  {
   "cell_type": "markdown",
   "id": "8c75a96a",
   "metadata": {},
   "source": [
    "#### Spinners: \n",
    "    \n",
    "Show a loading indicator while executing a time-consuming task using st.spinner()."
   ]
  },
  {
   "cell_type": "code",
   "execution_count": 12,
   "id": "4639ffd9",
   "metadata": {},
   "outputs": [],
   "source": [
    "import streamlit as st\n",
    "import time\n",
    "\n",
    "with st.spinner(\"Please wait...\"):\n",
    "    time.sleep(5)\n",
    "st.write(\"Task completed.\")\n"
   ]
  }
 ],
 "metadata": {
  "kernelspec": {
   "display_name": "Python [conda env:base] *",
   "language": "python",
   "name": "conda-base-py"
  },
  "language_info": {
   "codemirror_mode": {
    "name": "ipython",
    "version": 3
   },
   "file_extension": ".py",
   "mimetype": "text/x-python",
   "name": "python",
   "nbconvert_exporter": "python",
   "pygments_lexer": "ipython3",
   "version": "3.12.7"
  }
 },
 "nbformat": 4,
 "nbformat_minor": 5
}
