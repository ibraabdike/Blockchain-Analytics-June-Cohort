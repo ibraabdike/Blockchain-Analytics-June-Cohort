{
 "cells": [
  {
   "cell_type": "markdown",
   "metadata": {},
   "source": [
    "## What is a Database \n",
    "\n",
    "#### A database is a collection of data stored in a format that can easily be accessed, modified, protected and analysed. \n",
    "\n",
    "\n",
    "\n",
    " \n",
    "## Two main types of modern databases\n",
    "\n",
    "\n",
    "*The two main types of modern databases to choose from are relational and non-relational\n",
    "\n",
    "### Relational /SQL\n",
    "\n",
    "* A relational database is a type of database that uses a structure that allows us to identify and access data in relation to another piece of data in the database.\n",
    "* They have a table-based data structure, with a strict, predefined schema required.\n",
    "\n",
    "\n",
    "### Non-relational/ NoSQL \n",
    "* NoSQL databases, or non-relational databases, can be document based, graph databases, key-value pairs, or wide-column stores. NoSQL databases don’t require any predefined schema, allowing you to work more freely with “unstructured data.”\n",
    "\n",
    "\n",
    "You can think of a database as a collection of tables, where each table is a collection of rows and columns.\n",
    " Conceptually, these tables exist in two ways:\n",
    "\n",
    "##### Logical: \n",
    "The logical view of a table is the way the data is organized and presented to the user. This is the view you see when you query a table.\n",
    "\n",
    "##### Physical:\n",
    "The physical view of a table is the way the data is stored on disk. This is the view you see when you look at the underlying files that make up the table.\n",
    "\n",
    "Databases are designed to optimize for the logical view of a table, which is the view that users interact with. However, the physical view of a table is also important, as it determines how the data is stored and accessed.\n",
    "\n",
    "\n",
    "## DBMS (Database Management System)\n",
    "- Database Management System (DBMS) is a software that is used to define, create and maintain a database and provides controlled access to the data. They are RDBMS & NoSQL.\n",
    "- Or just a software used to manage a database.\n",
    "\n",
    "\n",
    "### Relational Database Management System\n",
    "\n",
    "- A relational database management system (RDBMS) is a program that allows you to create, update, and administer a relational database. \n",
    "- Most relational database management systems use the SQL language to access the database. \n",
    "\n",
    "##### RDBMS examples include\n",
    "* MySQL, \n",
    "* PostgreSQL, \n",
    "* Oracle DB\n",
    "* SQL Server\n",
    "* SQLite"
   ]
  },
  {
   "cell_type": "markdown",
   "metadata": {},
   "source": [
    "# Installing MySQL"
   ]
  },
  {
   "cell_type": "markdown",
   "metadata": {},
   "source": [
    "\n",
    "Install notes :\n",
    "\n",
    "Windows 10 / 11\n",
    "https://www.youtube.com/watch?v=BxdSUGBs0gM&t=228s\n",
    "\n",
    "Download Link: \n",
    "https://dev.mysql.com/downloads/windows/installer/8.0.html\n",
    "\n",
    "Mac \n",
    "https://www.youtube.com/watch?v=x9NbReqBVOY\n"
   ]
  },
  {
   "cell_type": "markdown",
   "metadata": {},
   "source": [
    "Online Editor https://sqliteonline.com/"
   ]
  },
  {
   "cell_type": "markdown",
   "metadata": {},
   "source": [
    "# Working with Relational Databases."
   ]
  },
  {
   "cell_type": "markdown",
   "metadata": {},
   "source": [
    "- SQL or SEQUEL is the language used to interact with RDBMS.\n",
    "- SQL is a programming language used to communicate with data stored in relational databases.\n",
    "- Unlike other languages, SQL is a declarative language; one just needs to specify the result that they want to see and submit the query to RDBMS. \n",
    "- RDBMS executes the code at the backend and gives the desired output."
   ]
  },
  {
   "cell_type": "markdown",
   "metadata": {},
   "source": [
    "### Subsets of SQL\n",
    "SQL queries can be categorized into 4 main Categories:\n",
    "- **DDL (Data Definition Language)**\n",
    "    - As the name suggests, these types of SQL commands are used to define & modify the structure of data. \n",
    "    - Like the structure of a table, schema.\n",
    "    - Includes commands like: CREATE, ALTER, DROP etc.\n",
    "- **DML (Data Manipulation Language)**\n",
    "    - These are commands used to manipulate data in existing databases.\n",
    "    - Includes commands like: SELECT, INSERT, UPDATE, DELETE.\n",
    "- **DCL (Data Control Language)**\n",
    "    - These commands control the access of the data stored in the database.\n",
    "    - Includes: GRANT, REVOKE.\n",
    "- **TCL (Transaction Control Language)**\n",
    "    - Commands used to manage transactions in the database.\n",
    "    - Used to manage changes made to data in a table by the DML statements.\n",
    "    - It also allows statements to be grouped together into logical transactions.\n",
    "    - Includes: COMMIT, ROLLBACK, SAVEPOINT."
   ]
  },
  {
   "cell_type": "markdown",
   "metadata": {},
   "source": [
    "## SQL Statements\n",
    "\n",
    "* A statement is a text that a database recognizes as a valid command.\n",
    "* Statements always end with a semi colon.\n",
    "* Two dashes ( -- ) before an SQL statement indicate a comment."
   ]
  },
  {
   "cell_type": "code",
   "execution_count": null,
   "metadata": {},
   "outputs": [],
   "source": [
    "# Basic structure of an SQL Statements\n",
    "CREATE TABLE table_name (\n",
    "    column_1 datatype,\n",
    "    column_2 datatype,\n",
    "    column_3 datatype\n",
    ");"
   ]
  },
  {
   "cell_type": "markdown",
   "metadata": {},
   "source": [
    "#### 1) CREATE TABLE \n",
    "* This is a <b>clause</b>.\n",
    "* Clauses perform specific tasks in SQL.\n",
    "* By convention clauses are written in UPPERCASE.\n",
    "* Clauses are also called <b>commands</b>\n",
    "\n",
    "#### 2) table_name\n",
    "* Refers to the name of the table that the command is applied to.\n",
    "\n",
    "#### 3) column_1, datatype, column_2, column_3\n",
    "* These are called parameters. They are passed to the clause as arguments."
   ]
  },
  {
   "cell_type": "markdown",
   "metadata": {},
   "source": [
    "## SQL CLAUSES\n",
    "- Clauses are in-built functions available to us in SQL.\n",
    "- Clauses help us filter and analyze data quickly. \n",
    "- When we have large amounts of data stored in the database, we use Clauses to query and get data required by the user."
   ]
  },
  {
   "cell_type": "markdown",
   "metadata": {},
   "source": [
    "#### 1) CREATE TABLE\n",
    "* Create allows us to create new table in the database."
   ]
  },
  {
   "cell_type": "code",
   "execution_count": null,
   "metadata": {},
   "outputs": [],
   "source": [
    "CREATE TABLE Punks (\n",
    "  ID INT PRIMARY KEY,\n",
    "  Sex VARCHAR(10),\n",
    "  Type VARCHAR(20),\n",
    "  Skin VARCHAR(20),\n",
    "  Slots INT,\n",
    ");"
   ]
  },
  {
   "cell_type": "code",
   "execution_count": null,
   "metadata": {},
   "outputs": [],
   "source": [
    "CREATE TABLE Transactions (\n",
    "  Txn VARCHAR(66) PRIMARY KEY, \n",
    "  PunkID INT,\n",
    "  FromAddress VARCHAR(100),\n",
    "  ToAddress VARCHAR(100),\n",
    "  Crypto DECIMAL(20, 8),\n",
    "  USD DECIMAL(20, 2),\n",
    "  TransactionDate DATETIME,  \n",
    "  FOREIGN KEY (PunkID) REFERENCES Punks(ID)\n",
    ");"
   ]
  },
  {
   "cell_type": "markdown",
   "metadata": {},
   "source": [
    "## PRIMARY KEY vs FOREIGN KEY\n",
    "\n",
    "- Each table has a column that uniquely identifies each row of that table. The special columns are called <b>Primary Keys</b>\n",
    "\n",
    "###### Requirements  for Primary Key\n",
    "- None of the values can be NULL.\n",
    "- Each value must be unique.\n",
    "- A table can not have more than one primary key column.\n",
    "\n",
    "<b>When a primary key for one table appears in a different table its called a <u>FOREIGN KEY</u></b>"
   ]
  },
  {
   "cell_type": "markdown",
   "metadata": {},
   "source": [
    "#### 2) INSERT\n",
    "- Inserts a new row into the table."
   ]
  },
  {
   "cell_type": "code",
   "execution_count": null,
   "metadata": {},
   "outputs": [],
   "source": [
    "INSERT INTO Punks (ID, Sex, Type, Skin, Slots) VALUES\n",
    "(123, 'Male', 'Human', 'Light', 2),\n",
    "(456, 'Female', 'Zombie', 'Green', 3),\n",
    "(789, 'Male', 'Ape', 'Dark', 1);"
   ]
  },
  {
   "cell_type": "code",
   "execution_count": null,
   "metadata": {},
   "outputs": [],
   "source": [
    "INSERT INTO Transactions (Txn, PunkID, FromAddress, ToAddress, Crypto, USD, TransactionDate) VALUES\n",
    "('0xabc123', 123, '0xfrom1', '0xto1', 15.5, 30000, '2021-03-15 12:00:00'),\n",
    "('0xdef456', 456, '0xfrom2', '0xto2', 100.0, 250000, '2021-06-10 09:30:00'),\n",
    "('0xghi789', 789, '0xfrom3', '0xto3', 200.0, 600000, '2021-12-01 18:45:00');"
   ]
  },
  {
   "cell_type": "code",
   "execution_count": null,
   "metadata": {},
   "outputs": [],
   "source": [
    "# After adding new column Rank to Punks table, insert more values\n",
    "INSERT INTO Punks (ID, Sex, Type, Skin, Slots, Rank) VALUES\n",
    "(101, 'Female', 'Alien', 'Blue', 4, 'Legendary'),\n",
    "(102, 'Male', 'Human', 'Light', 2, 'Common'),\n",
    "(103, 'Female', 'Human', 'Dark', 3, 'Rare'),\n",
    "(104, 'Male', 'Ape', 'Brown', 1, 'Legendary'),\n",
    "(105, 'Female', 'Alien', 'Purple', 5, 'Rare'),\n",
    "(106, 'Male', 'Zombie', 'Green', 2, 'Common'),\n",
    "(107, 'Female', 'Human', 'Light', 1, 'Common'),\n",
    "(108, 'Male', 'Human', 'Dark', 3, 'Rare'),\n",
    "(109, 'Female', 'Ape', 'Dark', 2, 'Rare'),\n",
    "(110, 'Male', 'Alien', 'Blue', 4, 'Legendary');"
   ]
  },
  {
   "cell_type": "code",
   "execution_count": null,
   "metadata": {},
   "outputs": [],
   "source": [
    "# Add rows to transactions table\n",
    "INSERT INTO Transactions (Txn, PunkID, FromAddress, ToAddress, Crypto, USD, TransactionDate) VALUES\n",
    "('0xaaa111', 101, '0xfrom4', '0xto4', 50.0, 100000, '2022-01-10 10:00:00'),\n",
    "('0xbbb222', 102, '0xfrom5', '0xto5', 75.0, 150000, '2022-02-15 11:30:00'),\n",
    "('0xccc333', 103, '0xfrom6', '0xto6', 20.0, 50000, '2022-03-20 12:45:00'),\n",
    "('0xddd444', 104, '0xfrom7', '0xto7', 150.0, 350000, '2022-04-25 14:00:00'),\n",
    "('0xeee555', 105, '0xfrom8', '0xto8', 90.0, 200000, '2022-05-30 15:15:00'),\n",
    "('0xfff666', 106, '0xfrom9', '0xto9', 60.0, 120000, '2022-06-05 16:30:00'),\n",
    "('0xggg777', 107, '0xfrom10', '0xto10', 30.0, 70000, '2022-07-10 17:45:00'),\n",
    "('0xhhh888', 108, '0xfrom11', '0xto11', 80.0, 180000, '2022-08-15 19:00:00'),\n",
    "('0xiii999', 109, '0xfrom12', '0xto12', 110.0, 250000, '2022-09-20 20:15:00'),\n",
    "('0xjjj000', 110, '0xfrom13', '0xto13', 95.0, 220000, '2022-10-25 21:30:00');"
   ]
  },
  {
   "cell_type": "markdown",
   "metadata": {},
   "source": [
    "#### 3) SELECT\n",
    "- SELECT is used to fetch data from the database"
   ]
  },
  {
   "cell_type": "code",
   "execution_count": null,
   "metadata": {},
   "outputs": [],
   "source": [
    "SELECT *\n",
    "FROM Punks;\n",
    "\n",
    "# * indicates we want to select all columns. We can also select individual columns ( SELECT ID,Type FROM Punks )\n",
    "# FROM Punks - Specifies the table we want to query the data from."
   ]
  },
  {
   "cell_type": "markdown",
   "metadata": {},
   "source": [
    "#### 4) ALTER\n",
    "Alter statement adds new column to a table."
   ]
  },
  {
   "cell_type": "code",
   "execution_count": null,
   "metadata": {},
   "outputs": [],
   "source": [
    "ALTER TABLE Punks\n",
    "ADD COLUMN Rank VARCHAR(20);\n",
    "# The row that existed before the column was created have NULL value for Rank column"
   ]
  },
  {
   "cell_type": "markdown",
   "metadata": {},
   "source": [
    "#### 5) UPDATE\n",
    "- Update statement edits a row in a table.\n",
    "- Used when you want to update existing records."
   ]
  },
  {
   "cell_type": "code",
   "execution_count": null,
   "metadata": {},
   "outputs": [],
   "source": [
    "UPDATE Punks\n",
    "SET Rank='Common'  # 'Common', 'Rare', 'Legendary'\n",
    "WHERE ID=123;\n",
    "# SET - Indicates the column we want to update.\n",
    "# WHERE - Indicates which row to update with the new column value."
   ]
  },
  {
   "cell_type": "markdown",
   "metadata": {},
   "source": [
    "#### 6) DELETE\n",
    "- Deletes one or more rows from a table."
   ]
  },
  {
   "cell_type": "code",
   "execution_count": null,
   "metadata": {},
   "outputs": [],
   "source": [
    "DELETE FROM Punks \n",
    "WHERE Rank IS NULL;"
   ]
  },
  {
   "cell_type": "markdown",
   "metadata": {},
   "source": [
    "##### We will explore more clauses as we continue."
   ]
  },
  {
   "cell_type": "markdown",
   "metadata": {},
   "source": [
    "#### Writing SQL Queries\n",
    "- Querying is retrieving information stored in a database.\n",
    "- Querying utilises the SELECT clause.\n",
    "- The data returned is stored in a result table, called the result-set."
   ]
  },
  {
   "cell_type": "code",
   "execution_count": null,
   "metadata": {},
   "outputs": [],
   "source": [
    "SELECT *\n",
    "FROM Punks;"
   ]
  },
  {
   "cell_type": "code",
   "execution_count": null,
   "metadata": {},
   "outputs": [],
   "source": [
    "# SELECT SPECIFIC COLUMNS \n",
    "SELECT ID,Type,Skin\n",
    "FROM Punks;"
   ]
  },
  {
   "cell_type": "markdown",
   "metadata": {},
   "source": [
    "## AS\n",
    "- <b>AS</b> is a SQL keyword used for renaming a column or table using an alias"
   ]
  },
  {
   "cell_type": "code",
   "execution_count": null,
   "metadata": {},
   "outputs": [],
   "source": [
    "SELECT \n",
    "  ID, \n",
    "  Type, \n",
    "  Skin, \n",
    "  Slots, \n",
    "  Slots + 1 AS 'Bonus Slot',\n",
    "  Slots * 100 AS PowerLevel\n",
    "FROM Punks;"
   ]
  },
  {
   "cell_type": "code",
   "execution_count": null,
   "metadata": {},
   "outputs": [],
   "source": [
    "SELECT \n",
    "  Txn, \n",
    "  DATE(TransactionDate) AS 'Date',\n",
    "  TIME(TransactionDate) AS 'Time',\n",
    "  CONCAT(FromAddress, ' -> ', ToAddress) AS 'Transfer Path'\n",
    "FROM Transactions;"
   ]
  },
  {
   "cell_type": "markdown",
   "metadata": {},
   "source": [
    "### DISTINCT\n",
    "- When we are examining data in a table, it can be helpful to know what distinct values exist in a particular column."
   ]
  },
  {
   "cell_type": "code",
   "execution_count": null,
   "metadata": {},
   "outputs": [],
   "source": [
    "SELECT DISTINCT Skin\n",
    "FROM Punks;"
   ]
  },
  {
   "cell_type": "code",
   "execution_count": null,
   "metadata": {},
   "outputs": [],
   "source": [
    "SELECT DISTINCT FromAddress\n",
    "FROM Transactions;"
   ]
  },
  {
   "cell_type": "markdown",
   "metadata": {},
   "source": [
    "### WHERE\n",
    "- We can use <b>WHERE</b> to restrict a query result inorder to obtain the data we are only looking for.\n",
    "- WHERE filters the result set to include only the rows where the condition is <b>True</b>\n",
    "- Example you may want to get only the Punks that have 2 or more Slots.\n",
    "- Types of operators \n",
    "    - <b> <, <=, >, =>, != </b>"
   ]
  },
  {
   "cell_type": "code",
   "execution_count": null,
   "metadata": {},
   "outputs": [],
   "source": [
    "SELECT *\n",
    "FROM Punks\n",
    "WHERE Slots >= 2;"
   ]
  },
  {
   "cell_type": "code",
   "execution_count": null,
   "metadata": {},
   "outputs": [],
   "source": [
    "SELECT *\n",
    "FROM Transactions\n",
    "WHERE Crypto > 50;"
   ]
  },
  {
   "cell_type": "markdown",
   "metadata": {},
   "source": [
    "### LIKE\n",
    "- <b>LIKE</b> is used when you want to compare similar values.\n",
    "-  For instance, we want to select transactions where the FromAddress starts with 0xfrom\n",
    "- % wildcard character is used.\n",
    "- When % is used before a pattern, the value should start with that pattern.\n",
    "- When its used after the pattern, the value should end with that pattern.\n",
    "- Can also be used at the start and end of a pattern eg %man%.\n",
    "    This basically means that the value must contain the word man in it.\n",
    "\n",
    "<br>\n",
    "<br>\n",
    "* We can also use wildcard _. eg j_n - Meansthe value should start with j and end with n and have just one character in the middle."
   ]
  },
  {
   "cell_type": "code",
   "execution_count": null,
   "metadata": {},
   "outputs": [],
   "source": [
    "SELECT *\n",
    "FROM Transactions\n",
    "WHERE FromAddress LIKE '0xfrom%';"
   ]
  },
  {
   "cell_type": "markdown",
   "metadata": {},
   "source": [
    "### IS NULL\n",
    "- Unknown or missing values are indicated by NULL.\n",
    "- The opposite of IS NULL is IS NOT NULL."
   ]
  },
  {
   "cell_type": "code",
   "execution_count": null,
   "metadata": {},
   "outputs": [],
   "source": [
    "SELECT *\n",
    "FROM Punks \n",
    "WHERE Rank IS NULL"
   ]
  },
  {
   "cell_type": "markdown",
   "metadata": {},
   "source": [
    "### BETWEEN\n",
    "- The BETWEEN OPERATOR is used with WHERE clause to filter the result set within a certain range.\n",
    "- It accepts two variables two values that are either numbers, text, date.\n",
    "- When the values ate text, BETWEEN filters the result set for within alphabetical range."
   ]
  },
  {
   "cell_type": "code",
   "execution_count": null,
   "metadata": {},
   "outputs": [],
   "source": [
    "SELECT *\n",
    "FROM Transactions\n",
    "WHERE Crypto BETWEEN 50 AND 200;"
   ]
  },
  {
   "cell_type": "markdown",
   "metadata": {},
   "source": [
    "### AND\n",
    "- When we want to combine multiple conditions in a WHERE clause to make the result set more specific and useful.\n",
    "- We can do that using <b>AND</b>.\n"
   ]
  },
  {
   "cell_type": "code",
   "execution_count": null,
   "metadata": {},
   "outputs": [],
   "source": [
    "# Select all transactions where The PunkID is greater than 105 AND\n",
    "# The Crypto amount multiplied by 2 is greater than 150.\n",
    "\n",
    "SELECT *\n",
    "FROM Transactions\n",
    "WHERE PunkID > 105 AND Crypto * 2 > 150;\n"
   ]
  },
  {
   "cell_type": "markdown",
   "metadata": {},
   "source": [
    "### OR\n",
    "- Can also be used to combine multiple conditions in <b>WHERE</b> but has fundamental difference from <b>AND</b>.\n",
    "- <b>OR</b> - Displays the rows if any condition is True.\n",
    "- <b>AND</b> - Displays the rows if all condition is True."
   ]
  },
  {
   "cell_type": "code",
   "execution_count": null,
   "metadata": {},
   "outputs": [],
   "source": [
    "SELECT *\n",
    "FROM Punks\n",
    "WHERE Slots = 5 OR Rank = 'Legendary';"
   ]
  },
  {
   "cell_type": "code",
   "execution_count": null,
   "metadata": {},
   "outputs": [],
   "source": [
    "SELECT *\n",
    "FROM Transactions\n",
    "WHERE Crypto > 100 OR TransactionDate = '2022-01-10 10:00:00';"
   ]
  },
  {
   "cell_type": "markdown",
   "metadata": {},
   "source": [
    "### IN\n",
    "- The IN operator allows you to specify multiple values in a WHERE clause.\n",
    "- The IN operator is a shorthand for multiple OR conditions."
   ]
  },
  {
   "cell_type": "code",
   "execution_count": null,
   "metadata": {},
   "outputs": [],
   "source": [
    "SELECT *\n",
    "FROM Punks\n",
    "WHERE Rank IN ('Common', 'Rare');"
   ]
  },
  {
   "cell_type": "code",
   "execution_count": null,
   "metadata": {},
   "outputs": [],
   "source": [
    "SELECT *\n",
    "FROM Transactions\n",
    "WHERE PunkID IN (101, 105, 110);"
   ]
  },
  {
   "cell_type": "markdown",
   "metadata": {},
   "source": [
    "### REGEXP OPERATOR\n",
    "- SQL allows you to match pattern right in the SQL statements by using REGEXP operator."
   ]
  },
  {
   "cell_type": "code",
   "execution_count": null,
   "metadata": {},
   "outputs": [],
   "source": [
    "# Select punks where Type contains 'man'\n",
    "SELECT *\n",
    "FROM Punks\n",
    "WHERE Type REGEXP 'man';"
   ]
  },
  {
   "cell_type": "code",
   "execution_count": null,
   "metadata": {},
   "outputs": [],
   "source": [
    "# Select transactions where FromAddress ends with 3\n",
    "SELECT *\n",
    "FROM Transactions\n",
    "WHERE FromAddress REGEXP '3$';"
   ]
  },
  {
   "cell_type": "markdown",
   "metadata": {},
   "source": [
    "### ORDER BY\n",
    "- We can sort a result set using ORDER BY either alphabetically or numerically.\n",
    "- ORDER BY defaults to ascending order."
   ]
  },
  {
   "cell_type": "code",
   "execution_count": null,
   "metadata": {},
   "outputs": [],
   "source": [
    "SELECT *\n",
    "FROM Punks\n",
    "ORDER BY Slots;"
   ]
  },
  {
   "cell_type": "code",
   "execution_count": null,
   "metadata": {},
   "outputs": [],
   "source": [
    "SELECT *\n",
    "FROM Punks\n",
    "ORDER BY Slots DESC;"
   ]
  },
  {
   "cell_type": "code",
   "execution_count": null,
   "metadata": {},
   "outputs": [],
   "source": [
    "# Select transactions where the Crypto amount is greater than 50 \n",
    "# and order them by USD value in ascending order\n",
    "SELECT *\n",
    "FROM Transactions\n",
    "WHERE Crypto > 50\n",
    "ORDER BY USD;"
   ]
  },
  {
   "cell_type": "markdown",
   "metadata": {},
   "source": [
    "### LIMIT\n",
    "- LIMIT is a clause that lets you specify the maximum number of rows the result set will display.\n",
    "- Saves space on the screen and makes queries run faster.\n",
    "- LIMIT always goes at the very end of the query."
   ]
  },
  {
   "cell_type": "code",
   "execution_count": null,
   "metadata": {},
   "outputs": [],
   "source": [
    "SELECT *\n",
    "FROM Transactions\n",
    "WHERE Crypto > 50\n",
    "ORDER BY USD\n",
    "LIMIT 1;"
   ]
  },
  {
   "cell_type": "markdown",
   "metadata": {},
   "source": [
    "#### Quiz 1\n",
    "- Write a query to select all punks with a Rank of 'Legendary' and at least 3 Slots.\n",
    "- Retrieve all transactions where the Crypto amount is greater than 100 or the USD value is above 500,000.\n",
    "- Select transactions for PunkID = 110, order them by Crypto in descending order, and return only the top 2 transactions.\n",
    "- Find all punks whose Type contains the word \"man\" (use REGEXP).\n",
    "- Write a query to count how many transactions happened on or after '2022-01-01'\n"
   ]
  },
  {
   "cell_type": "markdown",
   "metadata": {},
   "source": [
    "## SQL AGGREGATE FUNCTIONS.\n",
    "\n",
    "- These are the functions used to perform calculations using SQL.\n",
    "- Calculations performed on multiple rows of a table are called <u>aggregates.</u>\n",
    "- They are:-\n",
    "    - COUNT() - Count the number of rows.\n",
    "    - SUM() - Sums the values in a column.\n",
    "    - MAX() / MIN() - Largest/Smallest value.\n",
    "    - AVG() - The average of the values in a column.\n",
    "    - ROUND() - Rounds the values in a column."
   ]
  },
  {
   "cell_type": "markdown",
   "metadata": {},
   "source": [
    "### COUNT()\n",
    "\n",
    "- COUNT() takes the name of a column as an argument and counts the number of non empty values in that column."
   ]
  },
  {
   "cell_type": "code",
   "execution_count": null,
   "metadata": {},
   "outputs": [],
   "source": [
    "# This counts all rows in the Transactions table\n",
    "SELECT COUNT(*) AS total_count\n",
    "FROM Transactions;"
   ]
  },
  {
   "cell_type": "code",
   "execution_count": null,
   "metadata": {},
   "outputs": [],
   "source": [
    "# Counts transactions where Crypto is greater than 100\n",
    "SELECT COUNT(*) AS high_crypto_count\n",
    "FROM Transactions\n",
    "WHERE Crypto > 100;"
   ]
  },
  {
   "cell_type": "code",
   "execution_count": null,
   "metadata": {},
   "outputs": [],
   "source": [
    "# Counts how many punks have a Rank of Rare.\n",
    "SELECT COUNT(*) AS rare_punks_count\n",
    "FROM Punks\n",
    "WHERE Rank = 'Rare';"
   ]
  },
  {
   "cell_type": "markdown",
   "metadata": {},
   "source": [
    "### SUM()\n",
    "\n",
    "- SUM() is a function that takes the name of a column as an argument and returns the sum of all values in that column."
   ]
  },
  {
   "cell_type": "code",
   "execution_count": null,
   "metadata": {},
   "outputs": [],
   "source": [
    "# calculates the total value of all transactions in USD\n",
    "SELECT SUM(USD) AS total_usd\n",
    "FROM Transactions;"
   ]
  },
  {
   "cell_type": "code",
   "execution_count": null,
   "metadata": {},
   "outputs": [],
   "source": [
    "# sums the Crypto amounts for transactions involving PunkID 105\n",
    "SELECT SUM(Crypto) AS total_crypto\n",
    "FROM Transactions\n",
    "WHERE PunkID = 105;"
   ]
  },
  {
   "cell_type": "markdown",
   "metadata": {},
   "source": [
    "### MAX() / MIN()\n",
    "- The MAX() and MIN() functions return the highest & lowest values in a column respectively."
   ]
  },
  {
   "cell_type": "code",
   "execution_count": null,
   "metadata": {},
   "outputs": [],
   "source": [
    "# gives the highest and lowest USD values among all transactions.\n",
    "SELECT \n",
    "  MAX(USD) AS max_usd,\n",
    "  MIN(USD) AS min_usd\n",
    "FROM Transactions;"
   ]
  },
  {
   "cell_type": "code",
   "execution_count": null,
   "metadata": {},
   "outputs": [],
   "source": [
    "SELECT \n",
    "  MAX(Slots) AS max_slots,\n",
    "  MIN(Slots) AS min_slots\n",
    "FROM Punks;"
   ]
  },
  {
   "cell_type": "markdown",
   "metadata": {},
   "source": [
    "### AVG() \n",
    "- AVG() function calculates the average value for a particular column."
   ]
  },
  {
   "cell_type": "code",
   "execution_count": null,
   "metadata": {},
   "outputs": [],
   "source": [
    "# alculates the average USD value across all transactions.\n",
    "SELECT AVG(USD) AS avg_usd\n",
    "FROM Transactions;"
   ]
  },
  {
   "cell_type": "code",
   "execution_count": null,
   "metadata": {},
   "outputs": [],
   "source": [
    "SELECT AVG(Crypto) AS avg_crypto\n",
    "FROM Transactions;"
   ]
  },
  {
   "cell_type": "markdown",
   "metadata": {},
   "source": [
    "### ROUND()\n",
    "- ROUND() function take two arguments inside the parenthesis.\n",
    "    - Column name\n",
    "    - Integer\n",
    "- It rounds off all values in the column to the number of decimal places specified by the integer."
   ]
  },
  {
   "cell_type": "code",
   "execution_count": null,
   "metadata": {},
   "outputs": [],
   "source": [
    "# shows the USD value of each transaction rounded to 1 decimal place.\n",
    "SELECT ROUND(USD, 1) AS usd_1dp\n",
    "FROM Transactions;"
   ]
  },
  {
   "cell_type": "markdown",
   "metadata": {},
   "source": [
    "### GROUP BY\n",
    "\n",
    "- GROUP BY is a clause in SQL that is used with aggregate functions.\n",
    "- It is used in collaboration with SELECT statement to arrange identical data into groups eg we want to calculate the average invoice_total per client. \n",
    "- GROUP BY comes after any WHERE but before ORDER BY or LIMIT."
   ]
  },
  {
   "cell_type": "code",
   "execution_count": null,
   "metadata": {},
   "outputs": [],
   "source": [
    "# Calculate aggregate values (max, min, avg, sum, count) per Punk\n",
    "SELECT PunkID,  \n",
    "    MAX(USD) AS max_usd,\n",
    "    MIN(USD) AS min_usd,\n",
    "    AVG(USD) AS avg_usd,\n",
    "    SUM(USD) AS total_usd,\n",
    "    COUNT(*) AS txn_count\n",
    "FROM Transactions\n",
    "GROUP BY PunkID;"
   ]
  },
  {
   "cell_type": "code",
   "execution_count": null,
   "metadata": {},
   "outputs": [],
   "source": [
    "# Calculate how many punks exist per rank, and their average slots.\n",
    "SELECT Rank, \n",
    "    COUNT(*) AS punk_count,\n",
    "    AVG(Slots) AS avg_slots\n",
    "FROM Punks\n",
    "GROUP BY Rank;"
   ]
  },
  {
   "cell_type": "code",
   "execution_count": null,
   "metadata": {},
   "outputs": [],
   "source": [
    "SELECT PunkID,  \n",
    "    COUNT(*) AS txn_count,\n",
    "    SUM(USD) AS total_usd,\n",
    "    AVG(Crypto) AS avg_crypto\n",
    "FROM Transactions\n",
    "WHERE Crypto > 100\n",
    "GROUP BY PunkID;"
   ]
  },
  {
   "cell_type": "markdown",
   "metadata": {},
   "source": [
    "#### Quiz 2\n",
    "- Write a query to group transactions by PunkID and display the total number of transactions per Punk,the sum of Crypto sent by each Punk and the maximum USD value of their transactions.\n",
    "- Write a query to group punks by Rank and display the total number of punks in each rank and the average number of Slots per rank."
   ]
  },
  {
   "cell_type": "markdown",
   "metadata": {},
   "source": [
    "#### Solution"
   ]
  },
  {
   "cell_type": "code",
   "execution_count": null,
   "metadata": {},
   "outputs": [],
   "source": [
    "SELECT *\n",
    "FROM Punks\n",
    "WHERE Rank = 'Legendary' AND Slots >= 3;"
   ]
  },
  {
   "cell_type": "code",
   "execution_count": null,
   "metadata": {},
   "outputs": [],
   "source": [
    "SELECT *\n",
    "FROM Transactions\n",
    "WHERE Crypto > 100 OR USD > 500000;"
   ]
  },
  {
   "cell_type": "code",
   "execution_count": null,
   "metadata": {},
   "outputs": [],
   "source": [
    "SELECT *\n",
    "FROM Transactions\n",
    "WHERE PunkID = 110\n",
    "ORDER BY Crypto DESC\n",
    "LIMIT 2;"
   ]
  },
  {
   "cell_type": "code",
   "execution_count": null,
   "metadata": {},
   "outputs": [],
   "source": [
    "SELECT *\n",
    "FROM Punks\n",
    "WHERE Type REGEXP 'man';"
   ]
  },
  {
   "cell_type": "code",
   "execution_count": null,
   "metadata": {},
   "outputs": [],
   "source": [
    "SELECT COUNT(*) AS total_transactions\n",
    "FROM Transactions\n",
    "WHERE TransactionDate >= '2022-01-01';"
   ]
  },
  {
   "cell_type": "code",
   "execution_count": null,
   "metadata": {},
   "outputs": [],
   "source": [
    "SELECT PunkID,\n",
    "    COUNT(*) AS txn_count,\n",
    "    SUM(Crypto) AS total_crypto,\n",
    "    MAX(USD) AS max_usd\n",
    "FROM Transactions\n",
    "GROUP BY PunkID;"
   ]
  },
  {
   "cell_type": "code",
   "execution_count": null,
   "metadata": {},
   "outputs": [],
   "source": [
    "SELECT Rank,\n",
    "    COUNT(*) AS punk_count,\n",
    "    AVG(Slots) AS avg_slots\n",
    "FROM Punks\n",
    "GROUP BY Rank;"
   ]
  }
 ],
 "metadata": {
  "kernelspec": {
   "display_name": "Python [conda env:base] *",
   "language": "python",
   "name": "conda-base-py"
  },
  "language_info": {
   "codemirror_mode": {
    "name": "ipython",
    "version": 3
   },
   "file_extension": ".py",
   "mimetype": "text/x-python",
   "name": "python",
   "nbconvert_exporter": "python",
   "pygments_lexer": "ipython3",
   "version": "3.12.7"
  }
 },
 "nbformat": 4,
 "nbformat_minor": 4
}
