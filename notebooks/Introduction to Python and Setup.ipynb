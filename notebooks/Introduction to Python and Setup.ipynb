{
 "cells": [
  {
   "cell_type": "markdown",
   "id": "5122484d",
   "metadata": {},
   "source": [
    "# Introduction to Python and Setup"
   ]
  },
  {
   "cell_type": "markdown",
   "id": "5064bc2d",
   "metadata": {},
   "source": [
    "### Table of Contents\n",
    "\n",
    "---\n",
    "***\n",
    "___\n",
    "\n",
    "1 Introduction to Python\n",
    "   * A brief history of Python\n",
    "   * Python is popular\n",
    "   * Python applications and use cases\n",
    "   \n",
    "   \n",
    "2 Installing Python\n",
    "   * Downloading and installing Python\n",
    "   * Setting up the Python environment\n",
    "   \n",
    "3 Getting Started with Google Colab \n",
    "   * Running Python code on Google Colab\n",
    "   \n",
    "4 Writing and running your first Python script\n",
    "\n",
    "5 Assignment  Lab or Practical Work \n"
   ]
  },
  {
   "cell_type": "markdown",
   "id": "34db871c",
   "metadata": {},
   "source": [
    "## Introduction to Python"
   ]
  },
  {
   "cell_type": "markdown",
   "id": "4368ce0e",
   "metadata": {},
   "source": [
    "Python is a popular high-level programming language that is widely used for web development, scientific computing, data analysis, artificial intelligence, and more. It was first released in 1991 by Guido van Rossum and has since grown into a powerful tool for programmers and developers."
   ]
  },
  {
   "cell_type": "markdown",
   "id": "4dd4aeca",
   "metadata": {},
   "source": [
    "## Brief history of Python"
   ]
  },
  {
   "cell_type": "markdown",
   "id": "46ec3360",
   "metadata": {},
   "source": [
    "Python was created by Guido van Rossum in the late 1980s and was first released in 1991. It was named after the Monty Python comedy group. Python was designed to be easy to read and write, with a syntax that emphasizes code readability."
   ]
  },
  {
   "cell_type": "markdown",
   "id": "335b7bd2",
   "metadata": {},
   "source": [
    "## Why Python is popular"
   ]
  },
  {
   "cell_type": "markdown",
   "id": "77c1f4a1",
   "metadata": {},
   "source": [
    "Python is popular for several reasons:\n",
    "\n",
    "* It is easy to learn and use.\n",
    "* It has a simple and consistent syntax.\n",
    "* It has a large and active community of users and developers.\n",
    "* It has a vast library of modules and packages for various applications.\n",
    "* It is versatile and can be used for a wide range of applications."
   ]
  },
  {
   "cell_type": "markdown",
   "id": "5dc8b004",
   "metadata": {},
   "source": [
    "## Python applications and use cases"
   ]
  },
  {
   "cell_type": "markdown",
   "id": "9b3b84f0",
   "metadata": {},
   "source": [
    "Python is used for a wide range of applications, including:\n",
    "\n",
    "* Web development\n",
    "* Scientific computing and data analysis\n",
    "* Artificial intelligence and machine learning\n",
    "* Game development\n",
    "* Robotics\n",
    "* Finance and trading\n",
    "* Automation and scripting\n",
    "* Education"
   ]
  },
  {
   "cell_type": "markdown",
   "id": "8705d683",
   "metadata": {},
   "source": [
    "## Installing Python"
   ]
  },
  {
   "cell_type": "markdown",
   "id": "5953e0c3",
   "metadata": {},
   "source": [
    "Before we can start using Python, we need to install it on our computer.\n",
    "\n",
    "### Downloading and installing Python\n",
    "\n",
    "You can download the latest version of Python from the official website at https://www.python.org/downloads/. Select the appropriate version for your operating system and follow the installation instructions."
   ]
  },
  {
   "cell_type": "markdown",
   "id": "f13e0395",
   "metadata": {},
   "source": [
    "### Setting up the Python environment\n",
    "After installing Python, we need to set up our environment to start writing and running Python code. There are several ways to do this, but we'll use Google Colab for now.\n",
    "\n",
    "### Installing Anaconda\n",
    "Anaconda is an open-source distribution of the Python and R programming languages for data science that aims to simplify package management and deployment. Package versions in Anaconda are managed by the package management system, conda\n",
    "\n",
    "https://www.anaconda.com/download\n",
    "\n",
    "### Installing Visual Studio Code\n",
    "Visual Studio Code, commonly referred to as VS Code, is an integrated development environment developed by Microsoft\n",
    "\n",
    "https://code.visualstudio.com/download"
   ]
  },
  {
   "cell_type": "markdown",
   "id": "2e437242",
   "metadata": {},
   "source": [
    "## Getting Started with Google Colab"
   ]
  },
  {
   "cell_type": "markdown",
   "id": "423f4761",
   "metadata": {},
   "source": [
    "Google Colab, short for Colaboratory is a free, cloud-based platform that allows you to write and execute Python code in a Jupyter notebook environment, making it an excellent tool for both beginners and experienced practitioners."
   ]
  },
  {
   "cell_type": "markdown",
   "id": "d7aea175-22f4-4831-9bf2-aa35a5b5fcce",
   "metadata": {},
   "source": [
    "##### Why Use Google Colab?\n",
    "- Free Access to Powerful Hardware: Google Colab provides free access to GPUs and TPUs, which can significantly speed up computations compared to a standard CPU.‍\n",
    "- No Installation Required: Being a cloud-based service, there's no need to install any software on your computer. All you need is a web browser and a Google account.\n",
    "- Collaborative Features: Just like Google Docs, Colab notebooks can be shared and edited by multiple users in real-time, making collaboration seamless.\n",
    "- Integration with Google Drive: You can save your notebooks directly to your Google Drive, ensuring easy access and sharing."
   ]
  },
  {
   "cell_type": "markdown",
   "id": "861df4e6",
   "metadata": {},
   "source": [
    "#### Getting Started\n",
    "##### Step 1: Accessing Google Colab\n",
    "Open your web browser and search for Google Colab.\n",
    "Sign in with your Google account if you haven't already. Note, you are encouraged to use a Google account you have had for a while. Setting up new Google accounts can sometimes limit you when utilising GPUs in Colab."
   ]
  },
  {
   "cell_type": "markdown",
   "id": "d2630f6c",
   "metadata": {},
   "source": [
    "##### Step 2: Creating a New Notebook\n",
    "Once on the Colab homepage, click on the New notebook button. alternatively, you can click File → New notebook."
   ]
  },
  {
   "cell_type": "markdown",
   "id": "c1a313e5",
   "metadata": {},
   "source": [
    "##### Step 3: Write Your First Python Code\n",
    "\n",
    "Click on +Code to add a code cell"
   ]
  },
  {
   "cell_type": "code",
   "execution_count": 1,
   "id": "2fb290af",
   "metadata": {},
   "outputs": [
    {
     "name": "stdout",
     "output_type": "stream",
     "text": [
      "Hello, World!\n"
     ]
    }
   ],
   "source": [
    "# This is a simple Python program that prints \"Hello, World!\" \n",
    "print(\"Hello, World!\")\n"
   ]
  },
  {
   "cell_type": "markdown",
   "id": "4ebf2b28",
   "metadata": {},
   "source": [
    "##### Step 4: Run Python on Your Notebook\n",
    "To execute Python code, click the ‘run’ button to the left of the cell. This is the circle with the triangle inside\n",
    "\n",
    "To change the title of your Google Colab notebook, just click on the title and rename as you wish.\n",
    "\n",
    "To save a copy of your notebook on your local computer. You can navigate to File → Download and pick the appropriate extension."
   ]
  },
  {
   "cell_type": "markdown",
   "id": "6fc54c3e",
   "metadata": {},
   "source": [
    "# Assignment  Lab or Practical Work "
   ]
  },
  {
   "cell_type": "markdown",
   "id": "0d8a09d0",
   "metadata": {},
   "source": [
    "## Introduction to Python using Colab\n",
    "\n",
    "\n",
    "### Objective:\n",
    "The goal of this assignment is to introduce you to Python programming and Colab. You will learn basic Python concepts and use Colab to write, run, and share your Python notebooks.\n"
   ]
  },
  {
   "cell_type": "markdown",
   "id": "1010baa3",
   "metadata": {},
   "source": [
    "## Tasks:\n",
    "\n",
    "### 1 Create a new Notebook on Colab:\n",
    "\n",
    "* Follow the instructions in the \"Getting Started with Colab\" to create a new notebook.\n",
    "* Name your notebook \"PythonIntroAssignment\"."
   ]
  },
  {
   "cell_type": "markdown",
   "id": "faf7b2b1",
   "metadata": {},
   "source": [
    "### 2 Familiarize yourself with Python syntax:\n",
    "\n",
    "* In your Python Repl, experiment with basic Python concepts, such as printing messages to the console, assigning values to variables, and performing arithmetic operations.\n",
    "* Example: To print \"Hello, World!\" to the console, you can use the following command:"
   ]
  },
  {
   "cell_type": "code",
   "execution_count": 8,
   "id": "c845d5fb",
   "metadata": {},
   "outputs": [
    {
     "name": "stdout",
     "output_type": "stream",
     "text": [
      "Hello, World!\n"
     ]
    }
   ],
   "source": [
    "# answer\n",
    "print(\"Hello, World!\")\n"
   ]
  },
  {
   "cell_type": "markdown",
   "id": "63789cb1",
   "metadata": {},
   "source": [
    "Example: To add two numbers, you can use the following commands:"
   ]
  },
  {
   "cell_type": "code",
   "execution_count": 9,
   "id": "1a10263d",
   "metadata": {},
   "outputs": [
    {
     "name": "stdout",
     "output_type": "stream",
     "text": [
      "The sum of 5 and 3 is 8\n"
     ]
    }
   ],
   "source": [
    "num1 = 5\n",
    "num2 = 3\n",
    "sum = num1 + num2\n",
    "print(\"The sum of\", num1, \"and\", num2, \"is\", sum)\n"
   ]
  },
  {
   "cell_type": "markdown",
   "id": "9bf9d3a1",
   "metadata": {},
   "source": [
    "### 3 Write a Python script that prompts the user for their name and greets them:\n",
    "\n",
    "*Write a Python script that asks the user for their name using the input() function.\n",
    "*Example:"
   ]
  },
  {
   "cell_type": "code",
   "execution_count": 11,
   "id": "c1422c8c",
   "metadata": {},
   "outputs": [
    {
     "name": "stdout",
     "output_type": "stream",
     "text": [
      "Please enter your name: \n"
     ]
    }
   ],
   "source": [
    "name = input(\"Please enter your name: \")"
   ]
  },
  {
   "cell_type": "markdown",
   "id": "76f18d9f",
   "metadata": {},
   "source": [
    "Print a personalized greeting to the console using the entered name.\n",
    "Example:"
   ]
  },
  {
   "cell_type": "code",
   "execution_count": 12,
   "id": "6c496fa9",
   "metadata": {},
   "outputs": [
    {
     "name": "stdout",
     "output_type": "stream",
     "text": [
      "Hello, ! Welcome to Python programming.\n"
     ]
    }
   ],
   "source": [
    "print(\"Hello, \" + name + \"! Welcome to Python programming.\")\n"
   ]
  },
  {
   "cell_type": "markdown",
   "id": "50511e72",
   "metadata": {},
   "source": [
    "### 4 Write a Python script that prompts the user for two numbers and prints their sum:\n",
    "\n",
    "* Write a Python script that asks the user for two numbers using the input() function.\n",
    "* Convert the entered values from strings to integers using the int() function.\n",
    "* Example:"
   ]
  },
  {
   "cell_type": "code",
   "execution_count": 13,
   "id": "cfbd694e",
   "metadata": {},
   "outputs": [
    {
     "name": "stdout",
     "output_type": "stream",
     "text": [
      "Please enter the first number: 6\n",
      "Please enter the second number: 6\n"
     ]
    }
   ],
   "source": [
    "num1 = int(input(\"Please enter the first number: \"))\n",
    "num2 = int(input(\"Please enter the second number: \"))\n"
   ]
  },
  {
   "cell_type": "markdown",
   "id": "c0c41e7c",
   "metadata": {},
   "source": [
    "* Calculate the sum of the two numbers and print the result to the console.\n",
    "* Example:"
   ]
  },
  {
   "cell_type": "code",
   "execution_count": 14,
   "id": "620a6e78",
   "metadata": {},
   "outputs": [
    {
     "name": "stdout",
     "output_type": "stream",
     "text": [
      "The sum of 6 and 6 is 12\n"
     ]
    }
   ],
   "source": [
    "sum = num1 + num2\n",
    "print(\"The sum of\", num1, \"and\", num2, \"is\", sum)\n"
   ]
  },
  {
   "cell_type": "code",
   "execution_count": null,
   "id": "e985c6d3",
   "metadata": {},
   "outputs": [],
   "source": []
  }
 ],
 "metadata": {
  "kernelspec": {
   "display_name": "Python [conda env:base] *",
   "language": "python",
   "name": "conda-base-py"
  },
  "language_info": {
   "codemirror_mode": {
    "name": "ipython",
    "version": 3
   },
   "file_extension": ".py",
   "mimetype": "text/x-python",
   "name": "python",
   "nbconvert_exporter": "python",
   "pygments_lexer": "ipython3",
   "version": "3.12.7"
  }
 },
 "nbformat": 4,
 "nbformat_minor": 5
}
