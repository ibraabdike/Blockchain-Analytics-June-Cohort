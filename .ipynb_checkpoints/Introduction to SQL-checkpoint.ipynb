{
 "cells": [
  {
   "cell_type": "markdown",
   "metadata": {},
   "source": [
    "## What is a Database \n",
    "\n",
    "#### A database is a collection of data stored in a format that can easily be accessed, modified, protected and analysed. \n",
    "\n",
    "\n",
    "\n",
    " \n",
    "## Two main types of modern databases\n",
    "\n",
    "\n",
    "*The two main types of modern databases to choose from are relational and non-relational\n",
    "\n",
    "### Relational /SQL\n",
    "\n",
    "* A relational database is a type of database that uses a structure that allows us to identify and access data in relation to another piece of data in the database.\n",
    "* They have a table-based data structure, with a strict, predefined schema required.\n",
    "\n",
    "\n",
    "### Non-relational/ NoSQL \n",
    "* NoSQL databases, or non-relational databases, can be document based, graph databases, key-value pairs, or wide-column stores. NoSQL databases don’t require any predefined schema, allowing you to work more freely with “unstructured data.”\n",
    "\n",
    "\n",
    "You can think of a database as a collection of tables, where each table is a collection of rows and columns.\n",
    " Conceptually, these tables exist in two ways:\n",
    "\n",
    "##### Logical: \n",
    "The logical view of a table is the way the data is organized and presented to the user. This is the view you see when you query a table.\n",
    "\n",
    "##### Physical:\n",
    "The physical view of a table is the way the data is stored on disk. This is the view you see when you look at the underlying files that make up the table.\n",
    "\n",
    "Databases are designed to optimize for the logical view of a table, which is the view that users interact with. However, the physical view of a table is also important, as it determines how the data is stored and accessed.\n",
    "\n",
    "\n",
    "## DBMS (Database Management System)\n",
    "- Database Management System (DBMS) is a software that is used to define, create and maintain a database and provides controlled access to the data. They are RDBMS & NoSQL.\n",
    "- Or just a software used to manage a database.\n",
    "\n",
    "\n",
    "### Relational Database Management System\n",
    "\n",
    "- A relational database management system (RDBMS) is a program that allows you to create, update, and administer a relational database. \n",
    "- Most relational database management systems use the SQL language to access the database. \n",
    "\n",
    "##### RDBMS examples include\n",
    "* MySQL, \n",
    "* PostgreSQL, \n",
    "* Oracle DB\n",
    "* SQL Server\n",
    "* SQLite"
   ]
  },
  {
   "cell_type": "markdown",
   "metadata": {},
   "source": [
    "# Installing MySQL"
   ]
  },
  {
   "cell_type": "markdown",
   "metadata": {},
   "source": [
    "\n",
    "Install notes :\n",
    "\n",
    "Windows 10 / 11\n",
    "https://www.youtube.com/watch?v=BxdSUGBs0gM&t=228s\n",
    "\n",
    "Download Link: \n",
    "https://dev.mysql.com/downloads/windows/installer/8.0.html\n",
    "\n",
    "Mac \n",
    "https://www.youtube.com/watch?v=x9NbReqBVOY\n"
   ]
  },
  {
   "cell_type": "markdown",
   "metadata": {},
   "source": [
    "Online Editor https://sqliteonline.com/"
   ]
  },
  {
   "cell_type": "markdown",
   "metadata": {},
   "source": [
    "# Working with Relational Databases."
   ]
  },
  {
   "cell_type": "markdown",
   "metadata": {},
   "source": [
    "- SQL or SEQUEL is the language used to interact with RDBMS.\n",
    "- SQL is a programming language used to communicate with data stored in relational databases.\n",
    "- Unlike other languages, SQL is a declarative language; one just needs to specify the result that they want to see and submit the query to RDBMS. \n",
    "- RDBMS executes the code at the backend and gives the desired output."
   ]
  },
  {
   "cell_type": "markdown",
   "metadata": {},
   "source": [
    "### Subsets of SQL\n",
    "SQL queries can be categorized into 4 main Categories:\n",
    "- **DDL (Data Definition Language)**\n",
    "    - As the name suggests, these types of SQL commands are used to define & modify the structure of data. \n",
    "    - Like the structure of a table, schema.\n",
    "    - Includes commands like: CREATE, ALTER, DROP etc.\n",
    "- **DML (Data Manipulation Language)**\n",
    "    - These are commands used to manipulate data in existing databases.\n",
    "    - Includes commands like: SELECT, INSERT, UPDATE, DELETE.\n",
    "- **DCL (Data Control Language)**\n",
    "    - These commands control the access of the data stored in the database.\n",
    "    - Includes: GRANT, REVOKE.\n",
    "- **TCL (Transaction Control Language)**\n",
    "    - Commands used to manage transactions in the database.\n",
    "    - Used to manage changes made to data in a table by the DML statements.\n",
    "    - It also allows statements to be grouped together into logical transactions.\n",
    "    - Includes: COMMIT, ROLLBACK, SAVEPOINT."
   ]
  },
  {
   "cell_type": "markdown",
   "metadata": {},
   "source": [
    "## SQL Statements\n",
    "\n",
    "* A statement is a text that a database recognizes as a valid command.\n",
    "* Statements always end with a semi colon.\n",
    "* Two dashes ( -- ) before an SQL statement indicate a comment."
   ]
  },
  {
   "cell_type": "code",
   "execution_count": null,
   "metadata": {},
   "outputs": [],
   "source": [
    "# Basic structure of an SQL Statements\n",
    "CREATE TABLE table_name (\n",
    "    column_1 datatype,\n",
    "    column_2 datatype,\n",
    "    column_3 datatype\n",
    ");"
   ]
  },
  {
   "cell_type": "markdown",
   "metadata": {},
   "source": [
    "#### 1) CREATE TABLE \n",
    "* This is a <b>clause</b>.\n",
    "* Clauses perform specific tasks in SQL.\n",
    "* By convention clauses are written in UPPERCASE.\n",
    "* Clauses are also called <b>commands</b>\n",
    "\n",
    "#### 2) table_name\n",
    "* Refers to the name of the table that the command is applied to.\n",
    "\n",
    "#### 3) column_1, datatype, column_2, column_3\n",
    "* These are called parameters. They are passed to the clause as arguments."
   ]
  },
  {
   "cell_type": "markdown",
   "metadata": {},
   "source": [
    "## SQL CLAUSES\n",
    "- Clauses are in-built functions available to us in SQL.\n",
    "- Clauses help us filter and analyze data quickly. \n",
    "- When we have large amounts of data stored in the database, we use Clauses to query and get data required by the user."
   ]
  },
  {
   "cell_type": "markdown",
   "metadata": {},
   "source": [
    "#### 1) CREATE TABLE\n",
    "* Create allows us to create new table in the database."
   ]
  },
  {
   "cell_type": "code",
   "execution_count": null,
   "metadata": {},
   "outputs": [],
   "source": [
    "CREATE TABLE Punks (\n",
    "  ID INT PRIMARY KEY,\n",
    "  Sex VARCHAR(10),\n",
    "  Type VARCHAR(20),\n",
    "  Skin VARCHAR(20),\n",
    "  Slots INT,\n",
    ");"
   ]
  },
  {
   "cell_type": "code",
   "execution_count": null,
   "metadata": {},
   "outputs": [],
   "source": [
    "CREATE TABLE Transactions (\n",
    "  Txn VARCHAR(66) PRIMARY KEY, \n",
    "  PunkID INT,\n",
    "  FromAddress VARCHAR(100),\n",
    "  ToAddress VARCHAR(100),\n",
    "  Crypto DECIMAL(20, 8),\n",
    "  USD DECIMAL(20, 2),\n",
    "  TransactionDate DATETIME,  \n",
    "  FOREIGN KEY (PunkID) REFERENCES Punks(ID)\n",
    ");"
   ]
  },
  {
   "cell_type": "markdown",
   "metadata": {},
   "source": [
    "## PRIMARY KEY vs FOREIGN KEY\n",
    "\n",
    "- Each table has a column that uniquely identifies each row of that table. The special columns are called <b>Primary Keys</b>\n",
    "\n",
    "###### Requirements  for Primary Key\n",
    "- None of the values can be NULL.\n",
    "- Each value must be unique.\n",
    "- A table can not have more than one primary key column.\n",
    "\n",
    "<b>When a primary key for one table appears in a different table its called a <u>FOREIGN KEY</u></b>"
   ]
  },
  {
   "cell_type": "markdown",
   "metadata": {},
   "source": [
    "#### 2) INSERT\n",
    "- Inserts a new row into the table."
   ]
  },
  {
   "cell_type": "code",
   "execution_count": null,
   "metadata": {},
   "outputs": [],
   "source": [
    "INSERT INTO Punks (ID, Sex, Type, Skin, Slots) VALUES\n",
    "(123, 'Male', 'Human', 'Light', 2),\n",
    "(456, 'Female', 'Zombie', 'Green', 3),\n",
    "(789, 'Male', 'Ape', 'Dark', 1);"
   ]
  },
  {
   "cell_type": "code",
   "execution_count": null,
   "metadata": {},
   "outputs": [],
   "source": [
    "INSERT INTO Transactions (Txn, PunkID, FromAddress, ToAddress, Crypto, USD, TransactionDate) VALUES\n",
    "('0xabc123...', 123, '0xfrom1...', '0xto1...', 15.5, 30000, '2021-03-15 12:00:00'),\n",
    "('0xdef456...', 456, '0xfrom2...', '0xto2...', 100.0, 250000, '2021-06-10 09:30:00'),\n",
    "('0xghi789...', 789, '0xfrom3...', '0xto3...', 200.0, 600000, '2021-12-01 18:45:00');"
   ]
  },
  {
   "cell_type": "markdown",
   "metadata": {},
   "source": [
    "#### 3) SELECT\n",
    "- SELECT is used to fetch data from the database"
   ]
  },
  {
   "cell_type": "code",
   "execution_count": null,
   "metadata": {},
   "outputs": [],
   "source": [
    "SELECT *\n",
    "FROM Punks;\n",
    "\n",
    "# * indicates we want to select all columns. We can also select individual columns ( SELECT ID,Type FROM Punks )\n",
    "# FROM Punks - Specifies the table we want to query the data from."
   ]
  },
  {
   "cell_type": "markdown",
   "metadata": {},
   "source": [
    "#### 4) ALTER\n",
    "Alter statement adds new column to a table."
   ]
  },
  {
   "cell_type": "code",
   "execution_count": null,
   "metadata": {},
   "outputs": [],
   "source": [
    "ALTER TABLE Punks\n",
    "ADD COLUMN Rank VARCHAR(20);\n",
    "# The row that existed before the column was created have NULL value for Rank column"
   ]
  },
  {
   "cell_type": "markdown",
   "metadata": {},
   "source": [
    "#### 5) UPDATE\n",
    "- Update statement edits a row in a table.\n",
    "- Used when you want to update existing records."
   ]
  },
  {
   "cell_type": "code",
   "execution_count": null,
   "metadata": {},
   "outputs": [],
   "source": [
    "UPDATE Punks\n",
    "SET Rank='Common'  # 'Common', 'Rare', 'Legendary'\n",
    "WHERE ID=123;\n",
    "# SET - Indicates the column we want to update.\n",
    "# WHERE - Indicates which row to update with the new column value."
   ]
  },
  {
   "cell_type": "markdown",
   "metadata": {},
   "source": [
    "#### 6) DELETE\n",
    "- Deletes one or more rows from a table."
   ]
  },
  {
   "cell_type": "code",
   "execution_count": null,
   "metadata": {},
   "outputs": [],
   "source": [
    "DELETE FROM Punks \n",
    "WHERE Rank IS NULL;"
   ]
  },
  {
   "cell_type": "markdown",
   "metadata": {},
   "source": [
    "##### We will explore more clauses as we continue."
   ]
  }
 ],
 "metadata": {
  "kernelspec": {
   "display_name": "Python [conda env:base] *",
   "language": "python",
   "name": "conda-base-py"
  },
  "language_info": {
   "codemirror_mode": {
    "name": "ipython",
    "version": 3
   },
   "file_extension": ".py",
   "mimetype": "text/x-python",
   "name": "python",
   "nbconvert_exporter": "python",
   "pygments_lexer": "ipython3",
   "version": "3.12.7"
  }
 },
 "nbformat": 4,
 "nbformat_minor": 4
}
